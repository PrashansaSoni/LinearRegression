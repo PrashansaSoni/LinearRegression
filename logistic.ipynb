{
 "cells": [
  {
   "cell_type": "code",
   "execution_count": 2,
   "id": "90afc055-a131-4d8d-a7f3-7195a4a3e334",
   "metadata": {},
   "outputs": [],
   "source": [
    "import torch\n",
    "import torch.nn as nn\n",
    "import torch.optim as optim\n",
    "import numpy as np\n",
    "from sklearn.model_selection import train_test_split"
   ]
  },
  {
   "cell_type": "code",
   "execution_count": 3,
   "id": "ca07403a-6f30-462b-9d78-e4f777f219a7",
   "metadata": {},
   "outputs": [],
   "source": [
    "#  Generate Synthetic Dataset\n",
    "np.random.seed(0)\n",
    "X = np.random.randn(100, 1)  # Generate 100 random input samples (features)\n",
    "y = (X > 0).astype(np.float32)  # Generate binary class labels based on X > 0"
   ]
  },
  {
   "cell_type": "code",
   "execution_count": 4,
   "id": "bc946f76-d37e-4c51-8097-a2dcc6c2cb54",
   "metadata": {},
   "outputs": [],
   "source": [
    "# Convert NumPy arrays to PyTorch tensors\n",
    "X_tensor = torch.from_numpy(X).float()\n",
    "y_tensor = torch.from_numpy(y).view(-1, 1)  \n"
   ]
  },
  {
   "cell_type": "code",
   "execution_count": 5,
   "id": "ef6f0294-5943-41a3-bcd8-8355de557cfa",
   "metadata": {},
   "outputs": [],
   "source": [
    "#  Train Logistic Regression Model\n",
    "class LogisticRegression(nn.Module):\n",
    "    def __init__(self):\n",
    "        super(LogisticRegression, self).__init__()\n",
    "        self.linear = nn.Linear(1, 1)  \n",
    "        self.sigmoid = nn.Sigmoid()    # Define sigmoid activation function\n",
    "\n",
    "    def forward(self, x):\n",
    "        logits = self.linear(x)\n",
    "        return self.sigmoid(logits)    # Apply sigmoid activation to obtain probabilities\n"
   ]
  },
  {
   "cell_type": "code",
   "execution_count": 6,
   "id": "1cd31be4-dfd3-4dc7-af14-638a2a5f51e7",
   "metadata": {},
   "outputs": [],
   "source": [
    "# LogisticRegression model\n",
    "model = LogisticRegression()\n",
    "\n",
    "#  loss function (Binary Cross Entropy with Sigmoid)\n",
    "criterion = nn.BCELoss()\n",
    "\n",
    "#  optimizer (Stochastic Gradient Descent)\n",
    "optimizer = optim.SGD(model.parameters(), lr=0.01)\n",
    "\n",
    "# Split data into training and testing sets \n",
    "X_train, X_test, y_train, y_test = train_test_split(X_tensor, y_tensor, test_size=0.2, random_state=42)\n"
   ]
  },
  {
   "cell_type": "code",
   "execution_count": null,
   "id": "945363ab-2260-48a9-94b9-e8bd2129daa2",
   "metadata": {},
   "outputs": [],
   "source": []
  }
 ],
 "metadata": {
  "kernelspec": {
   "display_name": "Python 3 (ipykernel)",
   "language": "python",
   "name": "python3"
  },
  "language_info": {
   "codemirror_mode": {
    "name": "ipython",
    "version": 3
   },
   "file_extension": ".py",
   "mimetype": "text/x-python",
   "name": "python",
   "nbconvert_exporter": "python",
   "pygments_lexer": "ipython3",
   "version": "3.12.3"
  }
 },
 "nbformat": 4,
 "nbformat_minor": 5
}
